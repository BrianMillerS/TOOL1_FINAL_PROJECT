{
 "cells": [
  {
   "attachments": {},
   "cell_type": "markdown",
   "id": "254d03c2",
   "metadata": {},
   "source": [
    "<center>\n",
    "<h1 style=\"font-size: 36px;\">NBA Line Up Analysis</h1>\n",
    "</center>\n",
    "\n",
    "[GitHub Repo](https://github.com/BrianMillerS/TOOL1_FINAL_PROJECT)  \n",
    "Data Science Tools 1 Final Project  \n",
    "Group Members: Brian Hanson, Brian Miller  \n",
    "March 9th, 2023"
   ]
  },
  {
   "attachments": {},
   "cell_type": "markdown",
   "id": "f76d0d97",
   "metadata": {},
   "source": [
    "## Dataset and Motivation: (1 point)\n",
    "****(1pt) How/why the dataset was collected and a description of the metadata of your dataset?****  \n",
    "\n",
    "We will be working in the feild of NBA sports analytics. For the NBA, there is no shortage of data available. To answer our research questions we pulled data from two different sources:  \n",
    " - Player statistics data (age, salary, height, weight, as well as performance summary statistics from prior seasons)  \n",
    " - NBA game play-by-play data (which has in-game event events recorded down to the second)  \n",
    "  \n",
    "We obtained the player statistics from [www.basketball-reference.com](https://www.basketball-reference.com/). Here is an example, [Kevin Durant (id = duranke01)](https://www.basketball-reference.com/players/d/duranke01.html)  \n",
    "  \n",
    "We obtained the play-by-play data from a [Kaggle dataset of play-by-play data for each season](https://www.kaggle.com/datasets/schmadam97/nba-playbyplay-data-20182019?resource=download), which was obtained in turn by scraping basketball-reference. \n",
    "  \n",
    "\n"
   ]
  },
  {
   "attachments": {},
   "cell_type": "markdown",
   "id": "e89dd3db",
   "metadata": {},
   "source": [
    "## Research Question: (2 points)\n",
    "***(2pts) What real-world problem are you trying to solve? What are the input and output of your analysis?***  \n",
    "  \n",
    "Main Question: What are the specific NBA player lineups (set of 5 players) that perform the best?  \n",
    "  \n",
    "Other Interesting Questions:  \n",
    " - Are there player metrics (age, salary, height, weight) that correlate with a high performing lineup?\n"
   ]
  },
  {
   "attachments": {},
   "cell_type": "markdown",
   "id": "35ebe241",
   "metadata": {},
   "source": [
    "## Literature Review: (2 points)  \n",
    "***(2pts) What other work has been done in this area, and how is your work novel compared to others?***  "
   ]
  },
  {
   "attachments": {},
   "cell_type": "markdown",
   "id": "708c0f2e",
   "metadata": {},
   "source": [
    "## Quality of Cleaning: (6points)  \n",
    "***(2pts) Data cleaning and type conversion activity.  Please share anything unusual you faced during this activity.***  \n",
    "***(2pts) What did you do about missing values and why? Handling missing values properly is very important.***  \n",
    "***(2pts) New feature/attribute creation and data summary statistics and interpretation.***"
   ]
  },
  {
   "attachments": {},
   "cell_type": "markdown",
   "id": "eb527011",
   "metadata": {},
   "source": [
    "## Vizualization (8 points, 2 each)  \n",
    "***(2pts) Data visualization activity (box plot, bar plot, violin plot, and pairplot to see relationships and distribution, etc.).***  \n",
    "***(2pts) Describe anything you find in the data after each visualization.***  \n",
    "***(2pts) What data visualization helped you understand about data distribution.***  \n",
    "***(2pts) What you did about possible outlier as per data distribution visualization. (Did you confirm with your client whether it is actually an outlier or put a disclosure statement in your notebook if you decided to remove it?)***  \n",
    "  \n",
    "Overview of Vizualization And Analysis Performed:  \n",
    " - Summary statistics (n games, unique players, unique 5-player lineups)\n",
    " - Vizualize distributions (pts scored, total posession per lineup, pts scored per possession for each lineup)\n",
    " - Outlier handling\n",
    " - Heatmap of lineup statistics\n",
    " - Heatmap of player performance\n",
    " - Linear model of to explore variables that influence the performance of a given lineup"
   ]
  },
  {
   "cell_type": "code",
   "execution_count": 1,
   "id": "87caf7d3-41c8-4369-8fbc-7183fae29cda",
   "metadata": {},
   "outputs": [],
   "source": [
    "## Dependencies ##\n",
    "\n",
    "# load custom functions from our support py files\n",
    "from play_by_play import load_specific_games, get_lineup_feature, load_seasons, get_lineup_results\n",
    "\n",
    "# load general dependencies\n",
    "import numpy as np\n",
    "import pandas as pd\n",
    "import seaborn as sns\n",
    "import matplotlib.pyplot as plt\n"
   ]
  },
  {
   "cell_type": "code",
   "execution_count": 2,
   "id": "8d042612",
   "metadata": {},
   "outputs": [],
   "source": [
    "## LOAD DATA, The whole 2016 NBA data play-by-play ##\n",
    "# df_2016 = load_seasons(seasons=[16], lineups=True, possessions=True, drop_lineup_miscount_games=True)[0]\n",
    "\n",
    "# df_2016.to_csv('df_2016.csv', index=False)\n",
    "\n",
    "df_2016 = pd.read_csv('df_2016.csv')\n"
   ]
  },
  {
   "cell_type": "code",
   "execution_count": 3,
   "id": "87eefff1",
   "metadata": {},
   "outputs": [
    {
     "name": "stdout",
     "output_type": "stream",
     "text": [
      "Loading dienggo01... Loading horfoal01... Loading harrijo01... Loading applike01... Loading pendeje02... Loading fryech01... Loading turnemy01... Loading wrighdo01... Loading muscami01... Loading stephla01... Loading hilljo01... Loading wiggian01... Loading antetth01... Loading turneev01... Loading jeffeco01... Loading ginobma01... Loading holidju01... Loading jordade01... Loading pricero01... Loading koufoko01... Loading connapa01... Loading anthojo01... Loading landrca01... Loading speigma01... Loading greenja01... Loading splitti01... Loading wilcocj01... Loading montelu01... Loading haywago01... Loading milescj01... Loading nichoan01... Loading jonesja02... Loading chalmma01... Loading anderry01... Loading hamiljo02... Loading bayleje01... Loading anderch01... Loading crowdja01... Loading noelne01... Loading gibsota01... Loading bargnan01... Loading dragigo01... Loading johnsty01... Loading randlju01... Loading humphkr01... Loading mirotni01... Loading lopezbr01... Loading paynead01... Loading stokeja01... Loading johnsjo02... Loading hillida01... Loading hoodro01... Loading goudean01... Loading couside01... Loading livinsh01... Loading crawfja01... Loading munfoxa02... Loading johnsch04... Loading kanteen01... Loading martija01... Loading garneke01... Loading ezelife01... Loading greenje02... Loading cottobr01... Loading mozgoti01... Loading waitedi01... Loading clarkia01... Loading jonesty01... Loading wroteto01... Loading wrighbr03... Loading feliccr01... Loading weemsso01... Loading barbole01... Loading collini01... Loading danietr01... Loading leonaka01... Loading brookaa01... Loading rosste01... Loading jackja01... Loading poweldw01... Loading thompho01... Loading morroan01... Loading netora01... Loading thomais02... Loading allenla01... Loading cabocbr01... Loading kaminfr01... Loading butlera01... Loading paytoel01... Loading chrisra01... Loading hairspj02... Loading kilpase01... Loading evansje01... Loading carrode01... Loading gasolpa01... Loading russeda01... Loading leuerjo01... Loading morrima03... Loading obriejj01... Loading batumni01... Loading lowryky01... Loading bogdabo02... Loading dellama01... Loading cunnija01... Loading barneha02... Loading derozde01... Loading walkeke02... Loading jokicni01... Loading noguelu01... Loading stuckro01... Loading amundlo01... Loading gallida01... Loading greenda02... Loading muhamsh01... Loading willial03... Loading bonnema01... Loading weberbr01... Loading rondora01... Loading townska01... Loading holliry01... Loading nelsoja01... Loading schrode01... Loading hansbty01... Loading willilo02... Loading snellto01... Loading clarkjo01... Loading goodedr01... Loading hillge01... Loading mudiaem01... Loading hezonma01... Loading millspa02... Loading hillso01... Loading gordoaa01... Loading gordoer01... Loading stoudam01... Loading middlkh01... Loading roberbr01... Loading roziete01... Loading holmeri01... Loading whittsh01... Loading jamesle01... Loading smithis01... Loading simmojo02... Loading ajincal01... Loading dudleja01... Loading smithjo03... Loading witheje01... Loading duncati01... Loading plumlmi01... Loading inglida01... Loading gortama01... Loading mejrisa01... Loading lopezro01... Loading linje01... Loading vujacsa01... Loading bogutan01... Loading nowitdi01... Loading willima02... Loading capelca01... Loading westbru01... Loading porzikr01... Loading marjabo01... Loading bledser01... Loading beaslmi01... Loading adamsst01... Loading obryajo01... Loading curryst01... Loading burketr01... Loading alexacl01... Loading youngja01... Loading gutiejo01... Loading paulch01... Loading greendr01... Loading reedwi02... Loading earlycl01... Loading biyombi01... Loading evansty01... Loading kiddgmi01... Loading bullore01... Loading tollian01... Loading augusdj01... Loading goodwar01... Loading antetgi01... Loading thompja02... Loading hilarne01... Loading perkike01... Loading greener01... Loading lambje01... Loading asikom01... Loading nancela02... Loading howardw01... Loading payneca01... Loading nealga01... Loading douglto01... Loading pachuza01... Loading mickejo01... Loading millspa01... Loading afflaar01... Loading willima01... Loading robinth01... Loading randoza01... Loading bartowi01... Loading mcculch01... Loading willide02... Loading budinch01... Loading harremo01... Loading robinna01... Loading hicksjj01... Loading adamsjo01... Loading papanko01... Loading diawbo01... Loading gasolma01... Loading leoname01... Loading walljo01... Loading bairsca01... Loading stephal01... Loading westda01... Loading smithgr02... Loading arthuda01... Loading anthoca01... Loading farmajo01... Loading redicjj01... Loading hibbero01... Loading baynear01... Loading lawsoty01... Loading ibakase01... Loading caldwke01... Loading bennean01... Loading johnsam01... Loading nurkiju01... Loading iguodan01... Loading varejan01... Loading simshe01... Loading serapke01... Loading princta01... Loading jenkijo01... Loading motiedo01... Loading mooreet01... Loading georgpa01... Loading dedmode01... Loading scottmi01... Loading griffbl01... Loading cunnida01... Loading lenal01... Loading millean02... Loading meeksjo01... Loading porteot01... Loading hayesch01... Loading piercpa01... Loading gallola01... Loading duranke01... Loading mcdankj01... Loading mahinia01... Loading sampsja02... Loading warretj01... Loading udrihbe01... Loading jefferi01... Loading singlky01... Loading eddieja01... Loading aldrico01... Loading jeffeal01... Loading burksal01... Loading ellismo01... Loading karasse01... Loading johnsor01... Loading hardeja01... Loading sullija01... Loading moreler01... Loading johnsja01... Loading anderja01... Loading sefolth01... Loading inglejo01... Loading brownma02... Loading villach01... Loading fraziti01... Loading davised01... Loading sacrero01... Loading hawessp01... Loading pattepa01... Loading arizatr01... Loading oquinky01... Loading greenge01... Loading bassbr01... Loading rudezda01... Loading tavarwa01... Loading korveky01... Loading kaunsa01... Loading wadedw01... Loading smithjr01... Loading belinma01... Loading beverpa01... Loading copelch01... Loading crabbal01... Loading josepco01... Loading youngni01... Loading willide01... Loading feltora01... Loading napiesh01... Loading fredeji01... Loading huestjo01... Loading leeda02... Loading winslju01... Loading allento01... Loading vucevni01... Loading huertma01... Loading harklma01... Loading jonesda02... Loading caulewi01... Loading loveke01... Loading smartma01... Loading olynyke01... Loading anderky01... Loading aldrila01... Loading curryse01... Loading goberru01... Loading roberan03... Loading bealbr01... Loading irvinky01... Loading okafoja01... Loading hunterj01... Loading harpeju01... Loading anderal01... Loading scolalu01... Loading bookede01... Loading aminual01... Loading powelno01... Loading lylestr01... Loading farieke01... Loading brandel01... Loading thomala01... Loading coleno01... Loading dunlemi02... Loading whiteha01... Loading bazemke01... Loading hinriki01... Loading mbahalu01... Loading smithru01... Loading bryanko01... Loading oubreke01... Loading blackta01... Loading brownlo01... Loading jacksre01... Loading vaughra01... Loading artesro01... Loading marshke01... Loading cartevi01... Loading templga01... Loading macksh01... Loading rubiori01... Loading mayooj01... Loading kellyry01... Loading holliro01... Loading collida01... Loading pekovni01... Loading cartemi01... Loading lillada01... Loading prigipa01... Loading mcraejo01... Loading rosede01... Loading butleca01... Loading toupaax01... Loading robingl02... Loading parkeja01... Loading valanjo01... Loading millsel01... Loading harriga01... Loading marblde01... Loading mccalra01... Loading zelleco01... Loading watsocj01... Loading zellety01... Loading ilyaser01... Loading sloando01... Loading butleji01... Loading barnema02... Loading plumlma01... Loading rushbr01... Loading morrima02... Loading youngth01... Loading youngjo01... Loading hasleud01... Loading monrogr01... Loading pattela01... Loading richajo01... Loading grantje02... Loading anderju01... Loading harrito02... Loading ellinwa01... Loading thornma01... Loading harriaa01... Loading lavinza01... Loading hardati02... Loading chandty01... Loading hensojo01... Loading parsoch01... Loading foyera01... Loading mccontj01... Loading shumpim01... Loading covinro01... Loading teletmi01... Loading pleisti01... Loading woodch01... Loading booketr01... Loading dinwisp01... Loading riverau01... Loading hendege02... Loading joneste01... Loading millemi01... Loading teaguje01... Loading denglu01... Loading parketo01... Loading drumman01... Loading mccolcj01... Loading pressph01... Loading johnswe01... Loading matthwe02... Loading oladivi01... Loading ennisty01... Loading larkish01... Loading martike02... Loading dawsobr01... Loading dejeabr01... Loading babbilu01... Loading knighbr03... Loading canaais01... Loading looneke01... Loading vonleno01... Loading novakst01... Loading dekkesa01... Loading davisan02... Loading conlemi01... Loading lauvejo01... Loading thompkl01... Loading mcrobjo01... Loading favorde01... Loading ennisja01... Loading caldejo01... Loading bradlav01... Loading blairde01... Loading holidjr01... Loading acyqu01... Loading stausni01... Loading clarkco01... Loading blakest01... Loading mcgeeja01... Loading thomptr01... Loading mclembe01... Loading dukandu01... Loading mohamna01... Loading breweco01... Loading geeal01... Loading gayru01... Loading portibo01... Loading mcderdo01... Loading casspom01... Loading noahjo01... Loading williel01... Loading leeco01... Loading jennibr01... Loading terryja01... Loading kamanch01... Loading sessira01... Loading tuckepj01... Loading harride01... Loading grantje01... Loading jerebjo01... Loading wrighde01... Loading mcadoja01... Loading vasqugr01... Loading bjeline01... Loading johnsst04... Loading boshch01... Loading hollajo02... Loading bareajo01... Loading brownan02... Loading mcgarmi01... Loading smithja02... Loading fournev01... "
     ]
    }
   ],
   "source": [
    "\n",
    "\n",
    "df_2016_lineups_featues_mean = get_lineup_results(df_2016, return_lineup_matchups=False)\n",
    "for stat_i in ['Height_cm', 'Mass_kg', 'age', 'salary']:\n",
    "    df_2016_lineups_featues_mean = get_lineup_feature(df_2016_lineups_featues_mean, \n",
    "                                                      table_name='info', \n",
    "                                                      col_name= stat_i, seasons_ago=1, \n",
    "                                                      agg='mean', \n",
    "                                                      delta_AwayHome=False)\n",
    "df_2016_lineups_featues_mean[\"PtsDiff\"] = df_2016_lineups_featues_mean[\"PtsScored\"] - df_2016_lineups_featues_mean[\"PtsAllowed\"]\n",
    "df_2016_lineups_featues_mean[\"PtsDiff_perPos\"] = df_2016_lineups_featues_mean[\"PtsDiff\"] / df_2016_lineups_featues_mean[\"TotalPossessions\"]\n",
    "\n",
    "\n",
    "\n",
    "df_2016_lineups_featues_list = get_lineup_results(df_2016, return_lineup_matchups=False)\n",
    "for stat_i in ['Height_cm', 'Mass_kg', 'age', 'salary']:\n",
    "    df_2016_lineups_featues_list = get_lineup_feature(df_2016_lineups_featues_list, \n",
    "                                                      table_name='info', \n",
    "                                                      col_name= stat_i, seasons_ago=1, \n",
    "                                                      agg='list', \n",
    "                                                      delta_AwayHome=False)\n",
    "df_2016_lineups_featues_list[\"PtsDiff\"] = df_2016_lineups_featues_list[\"PtsScored\"] - df_2016_lineups_featues_list[\"PtsAllowed\"]\n",
    "df_2016_lineups_featues_list[\"PtsDiff_perPos\"] = df_2016_lineups_featues_list[\"PtsDiff\"] / df_2016_lineups_featues_list[\"TotalPossessions\"]\n",
    "\n",
    "# # col_name ['Height_cm', 'Mass_kg', 'age', 'salary']\n",
    "# # agg ['list', 'mean', 'median', 'min', 'max', 'range', 'std']\n"
   ]
  },
  {
   "cell_type": "code",
   "execution_count": 18,
   "id": "efd63377",
   "metadata": {},
   "outputs": [
    {
     "name": "stderr",
     "output_type": "stream",
     "text": [
      "/var/folders/8c/kzx234q16zdf6dwkcnk692x80000gn/T/ipykernel_30966/3362626149.py:2: SettingWithCopyWarning: \n",
      "A value is trying to be set on a copy of a slice from a DataFrame.\n",
      "Try using .loc[row_indexer,col_indexer] = value instead\n",
      "\n",
      "See the caveats in the documentation: https://pandas.pydata.org/pandas-docs/stable/user_guide/indexing.html#returning-a-view-versus-a-copy\n",
      "  heatmap_df['Home'] = pd.to_numeric(df_2016_lineups_featues_mean['Home'])\n"
     ]
    },
    {
     "data": {
      "image/png": "[encoded data removed]",
      "text/plain": [
       "<Figure size 720x576 with 2 Axes>"
      ]
     },
     "metadata": {
      "needs_background": "light"
     },
     "output_type": "display_data"
    }
   ],
   "source": [
    "\n",
    "heatmap_df = df_2016_lineups_featues_mean[['PtsScored','LineupMean_cm', 'LineupMean_kg', 'LineupMean_age', 'LineupMean_salary']]\n",
    "heatmap_df['Home'] = pd.to_numeric(df_2016_lineups_featues_mean['Home'])\n",
    "plt.subplots(figsize=(10, 8))\n",
    "sns.heatmap(heatmap_df.corr(), annot=True)\n",
    "plt\n",
    "plt.show()\n"
   ]
  },
  {
   "cell_type": "code",
   "execution_count": null,
   "id": "374f59d9",
   "metadata": {},
   "outputs": [],
   "source": [
    "# df_2016_matchups = get_lineup_results(df_2016, return_lineup_matchups=True)\n",
    "\n",
    "\n"
   ]
  },
  {
   "cell_type": "code",
   "execution_count": null,
   "id": "6af53012",
   "metadata": {},
   "outputs": [],
   "source": [
    "# drop lineups that had no play time, or no possessions\n",
    "df_2016_lineups = df_2016_lineups[df_2016_lineups['SecElapsed'] != 0]\n",
    "df_2016_lineups = df_2016_lineups[df_2016_lineups['TotalPossessions'] != 0]\n",
    "\n",
    "# calculate the point differential (home-away)\n",
    "df_2016_lineups['Pts_diff'] = df_2016_lineups['HomePts']-df_2016_lineups['AwayPts']\n",
    "df_2016_lineups['Pts_diff_perPos'] = df_2016_lineups['Pts_diff']/df_2016_lineups['TotalPossessions']\n",
    "df_2016_lineups['Pts_diff_perSec'] = df_2016_lineups['Pts_diff']/df_2016_lineups['SecElapsed']\n",
    "\n",
    "# check for missing values\n",
    "print(df_2016_lineups.info())\n"
   ]
  },
  {
   "cell_type": "code",
   "execution_count": null,
   "id": "b48488f0",
   "metadata": {},
   "outputs": [],
   "source": [
    "## Vizualize Basic Distributions ##\n",
    "\n",
    "# create a histogram of SecElapsed\n",
    "plt.hist(df_2016_lineups['SecElapsed'], bins=50)\n",
    "plt.xlabel(\"Seconds Elapsed\")\n",
    "plt.ylabel(\"Frequency\")\n",
    "plt.title(\"Distribution of Seconds Elapsed\")\n",
    "plt.show()\n",
    "\n",
    "# create a histogram of TotPossessions\n",
    "plt.hist(df_2016_lineups['TotalPossessions'], bins=50)\n",
    "plt.xlabel(\"Total Possessions\")\n",
    "plt.ylabel(\"Frequency\")\n",
    "plt.title(\"Distribution of Total Possessions\")\n",
    "plt.show()\n",
    "\n",
    "# create a histogram of TotPossessions\n",
    "plt.hist(df_2016_lineups['Pts_diff'], bins=50)\n",
    "plt.xlabel(\"Total Point Differential\")\n",
    "plt.ylabel(\"Frequency\")\n",
    "plt.title(\"Distribution of Point Differentials\")\n",
    "plt.show()\n",
    "\n",
    "# create a histogram of TotPossessions\n",
    "plt.hist(df_2016_lineups['Pts_diff_perPos'], bins=30)\n",
    "plt.xlabel(\"Total Point Differential per Pos\")\n",
    "plt.ylabel(\"Frequency\")\n",
    "plt.title(\"Distribution of Point Differentials per Pos\")\n",
    "plt.show()\n",
    "\n",
    "# create a histogram of TotPossessions\n",
    "plt.hist(df_2016_lineups['Pts_diff_perSec'], bins=80)\n",
    "plt.xlabel(\"Total Point Differential per Sec played\")\n",
    "plt.ylabel(\"Frequency\")\n",
    "plt.title(\"Distribution of Point Differentials per Sec played\")\n",
    "plt.show()"
   ]
  },
  {
   "cell_type": "code",
   "execution_count": null,
   "id": "63b68fa2",
   "metadata": {},
   "outputs": [],
   "source": [
    "# isolate the top performing 10% of matchups\n",
    "quantile_95 = df_2016_lineups['Pts_diff_perPos'].quantile(0.5)\n",
    "\n",
    "# select the rows with Pts_diff_perPos above the 90th percentile\n",
    "top_10_percent_pos = df_2016_lineups[df_2016_lineups['Pts_diff_perPos'] >= quantile_90]\n",
    "\n",
    "# find the 10th percentile of Pts_diff_perPos\n",
    "quantile_05 = df_2016_lineups['Pts_diff_perPos'].quantile(0.05)\n",
    "\n",
    "# select the rows with Pts_diff_perPos below the 10th percentile and with negative values\n",
    "top_10_percent_neg = df_2016_lineups[(df_2016_lineups['Pts_diff_perPos'] <= quantile_10) & (df_2016_lineups['Pts_diff_perPos'] < 0)]\n",
    "\n"
   ]
  },
  {
   "cell_type": "code",
   "execution_count": null,
   "id": "322ecb9f-f47e-4014-8965-4ae56119bda9",
   "metadata": {},
   "outputs": [],
   "source": []
  },
  {
   "cell_type": "code",
   "execution_count": null,
   "id": "6b461413",
   "metadata": {},
   "outputs": [],
   "source": [
    "sns.violinplot()"
   ]
  }
 ],
 "metadata": {
  "kernelspec": {
   "display_name": "base",
   "language": "python",
   "name": "python3"
  },
  "language_info": {
   "codemirror_mode": {
    "name": "ipython",
    "version": 3
   },
   "file_extension": ".py",
   "mimetype": "text/x-python",
   "name": "python",
   "nbconvert_exporter": "python",
   "pygments_lexer": "ipython3",
   "version": "3.9.7"
  },
  "vscode": {
   "interpreter": {
    "hash": "5d9293d20991101903b2cedfa946c24a1d83420e3337464a61c19fab5af773f9"
   }
  }
 },
 "nbformat": 4,
 "nbformat_minor": 5
}
